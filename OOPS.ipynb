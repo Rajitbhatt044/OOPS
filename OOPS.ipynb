{
  "nbformat": 4,
  "nbformat_minor": 0,
  "metadata": {
    "colab": {
      "provenance": []
    },
    "kernelspec": {
      "name": "python3",
      "display_name": "Python 3"
    },
    "language_info": {
      "name": "python"
    }
  },
  "cells": [
    {
      "cell_type": "markdown",
      "source": [
        "#OOPS Assignment"
      ],
      "metadata": {
        "id": "6XG9hGPHnkKM"
      }
    },
    {
      "cell_type": "markdown",
      "source": [
        "1. What is Object-Oriented Programming (OOP)?\n",
        "- Object-Oriented Programming (OOP) is a programming paradigm based on the concept of \"objects,\" which can contain data and code. The key principles of OOP are encapsulation, inheritance, polymorphism, and abstraction.\n",
        "\n",
        "2. What is a class in OOP?\n",
        "- A class is a blueprint or a template for creating objects. It defines a set of attributes (data) and methods (functions) that the objects of that class will have. For example, a Car class could define attributes like color and make, and methods like start() and stop().\n",
        "\n",
        "3. What is an object in OOP?\n",
        "- An object is an instance of a class. It is a concrete entity created from the class blueprint. Each object has its own unique state (values of its attributes) and can perform actions (call its methods). For example, my_car = Car(color='red', make='Toyota') creates an object named my_car from the Car class.\n",
        "\n",
        "4. What is the difference between abstraction and encapsulation?\n",
        "- Abstraction focuses on hiding the complex implementation details and showing only the essential features of an object. It deals with showing \"what\" an object does, not \"how\" it does it.\n",
        "\n",
        "- Encapsulation is the bundling of data (attributes) and the methods that operate on that data into a single unit (the class). It also involves restricting direct access to some of an object's components, which is a key part of data hiding.\n",
        "\n",
        "5. What are dunder methods in Python?\n",
        "- Dunder methods, also known as magic methods, are special methods in Python with names that start and end with double underscores (e.g., __init__, __str__, __add__). They allow you to define how your objects interact with built-in functions and operators. For example, __init__ is the constructor, and __add__ defines the behavior of the + operator.\n",
        "\n",
        "6. Explain the concept of inheritance in OOP.\n",
        "- Inheritance is a mechanism that allows a new class (subclass or child class) to inherit attributes and methods from an existing class (superclass or parent class). This promotes code reuse and establishes an \"is-a\" relationship between classes. For example, a SportsCar class can inherit from a Car class, inheriting its basic properties and adding its own specific ones.\n",
        "\n",
        "7. What is polymorphism in OOP?\n",
        "- Polymorphism means \"many forms.\" In OOP, it refers to the ability of an object to take on many forms. It allows a single interface to be used for different underlying data types. A common example is method overriding, where a subclass provides its own implementation of a method that is already defined in its superclass.\n",
        "\n",
        "8. How is encapsulation achieved in Python?\n",
        "- Python does not have strict access modifiers like private or public as in some other languages. Encapsulation is achieved through a convention using naming conventions:\n",
        "\n",
        "- Public: Attributes/methods without any leading underscores. They can be accessed from anywhere.\n",
        "\n",
        "- Protected: Attributes/methods with a single leading underscore (e.g., _attribute). This is a convention to indicate that they should not be accessed from outside the class or its subclasses, but it's not strictly enforced.\n",
        "\n",
        "- Private: Attributes/methods with two leading underscores (e.g., __attribute). Python performs name mangling on these, making them harder to access from outside the class.\n",
        "\n",
        "9. What is a constructor in Python?\n",
        "- A constructor is a special method used to initialize an object's state. In Python, the constructor is the __init__ method. It is automatically called when a new object of the class is created. It takes the self argument, which refers to the instance being created, and other arguments needed to set the initial state.\n",
        "\n",
        "10. What are class and static methods in Python?\n",
        "- Class methods are bound to the class itself, not to an instance of the class. They are defined using the @classmethod decorator and take the class as their first argument (conventionally named cls). They are often used as factory methods.\n",
        "\n",
        "- Static methods are not bound to either the class or the instance. They are defined using the @staticmethod decorator and do not take self or cls as their first argument. They are essentially regular functions that are logically grouped with the class.\n",
        "\n",
        "11. What is method overloading in Python?\n",
        "- Method overloading is the ability to define multiple methods with the same name but with different numbers or types of parameters. Python does not support method overloading directly in the traditional sense. If you define multiple methods with the same name, the last one defined will override the previous ones. You can achieve similar functionality using default arguments, variable-length arguments (*args, **kwargs), or function dispatchers.\n",
        "\n",
        "12. What is method overriding in OOP?\n",
        "- Method overriding is a feature of inheritance where a subclass provides a specific implementation of a method that is already defined in its superclass. This allows a child class to change the behavior of an inherited method while keeping the same method signature.\n",
        "\n",
        "13. What is a property decorator in Python?\n",
        "- The @property decorator is used to define \"getters,\" \"setters,\" and \"deleters\" for class attributes. It allows you to use a method as an attribute, providing a cleaner way to manage access to a class's internal state. This helps in implementing encapsulation by allowing you to add validation logic or other operations when an attribute is accessed or modified.\n",
        "\n",
        "14. Why is polymorphism important in OOP?\n",
        "- Polymorphism is crucial for writing flexible and reusable code. It allows you to design generic interfaces that can work with a variety of data types. For example, you can write a function that takes a list of different types of shapes (e.g., Circle, Square) and calls their respective draw() method, without needing to know the specific type of each shape. This makes the code more extensible and easier to maintain.\n",
        "\n",
        "15. What is an abstract class in Python?\n",
        "- An abstract class is a class that cannot be instantiated on its own. Its purpose is to serve as a blueprint for other classes. Abstract classes can contain abstract methods, which are methods that have a declaration but no implementation. Subclasses are required to provide an implementation for these abstract methods. In Python, the abc (Abstract Base Classes) module is used to create abstract classes.\n",
        "\n",
        "16. What are the advantages of OOP?\n",
        "- Modularity: Code is organized into self-contained units (objects).\n",
        "\n",
        "- Reusability: Inheritance allows for code reuse, reducing redundancy.\n",
        "\n",
        "- Flexibility: Polymorphism allows for flexible and extensible code.\n",
        "\n",
        "- Maintainability: Encapsulation and abstraction make the code easier to understand and maintain.\n",
        "\n",
        "- Security: Encapsulation helps in data hiding, protecting data from unauthorized access.\n",
        "\n",
        "17. What is the difference between a class variable and an instance variable?\n",
        "- Class variables are shared by all instances of a class. They are defined within the class but outside of any method. They are accessed using ClassName.variable_name.\n",
        "\n",
        "- Instance variables are unique to each instance of a class. They are defined inside a method (usually __init__) and are specific to that object. They are accessed using self.variable_name.\n",
        "\n",
        "18. What is multiple inheritance in Python?\n",
        "- Multiple inheritance is a feature where a class can inherit from more than one parent class. This means the child class inherits attributes and methods from all its parent classes. While powerful, it can lead to complexity and the \"diamond problem\" where a class inherits from two classes that have a common ancestor, causing ambiguity in method resolution.\n",
        "\n",
        "19. Explain the purpose of __str__ and __repr__ methods in Python.\n",
        "- __str__ is a dunder method that provides a user-friendly string representation of an object. It's what is returned when you use print() or str() on an object. The goal is to be readable.\n",
        "\n",
        "- __repr__ is a dunder method that provides an \"official\" string representation of an object. Its goal is to be unambiguous and to ideally be a valid Python expression that could be used to recreate the object. It's often used for debugging.\n",
        "\n",
        "20. What is the significance of the super() function in Python?\n",
        "- The super() function is used to call a method from the parent class. In the context of inheritance, it is most commonly used in the __init__ method of a subclass to call the parent class's __init__ method, ensuring that the parent's attributes are properly initialized. It's also essential for resolving method calls in complex inheritance hierarchies.\n",
        "\n",
        "21. What is the significance of the __del__ method in Python?\n",
        "- The __del__ method is a destructor. It is called when an object is about to be destroyed (i.e., its reference count drops to zero). It's primarily used for cleaning up resources, such as closing files or network connections. However, it is not recommended to rely on __del__ for resource management as Python's garbage collection is non-deterministic.\n",
        "\n",
        "22. What is the difference between @staticmethod and @classmethod in Python?\n",
        "- @staticmethod is a decorator for a method that does not need access to the class or the instance. It's a way to group a utility function logically with a class. It does not take self or cls as its first argument.\n",
        "\n",
        "- @classmethod is a decorator for a method that receives the class itself (cls) as the first argument. It is used when a method needs to operate on the class or create instances of the class, such as a factory method.\n",
        "\n",
        "23. How does polymorphism work in Python with inheritance?\n",
        "- Polymorphism works because a child class can change a method it inherits from its parent. This means different objects can have different behaviors even when called with the same method name.\n",
        "\n",
        "24. What is method chaining in Python OOP?\n",
        "- Method chaining is when you call multiple methods on the same object in a single line. This is possible when each method returns the object itself, allowing you to link calls together.\n",
        "\n",
        "25. What is the purpose of the __call__ method in Python?\n",
        "- The __call__ method allows an object to be used like a function. If you have an object with this method, you can put parentheses after it and execute its code."
      ],
      "metadata": {
        "id": "sbdTa_aEn7vV"
      }
    },
    {
      "cell_type": "markdown",
      "source": [
        "1. Create a parent class Animal with a method speak() that prints a generic message.\n",
        "Create a child class Dog that overrides the speak() method to print \"Bark!\"."
      ],
      "metadata": {
        "id": "xHnokJUsv07T"
      }
    },
    {
      "cell_type": "code",
      "source": [
        "class Animal:\n",
        "    \"\"\"A generic animal class.\"\"\"\n",
        "    def speak(self):\n",
        "        \"\"\"A generic speak method.\"\"\"\n",
        "        print(\"A generic animal makes a sound.\")\n",
        "\n",
        "class Dog(Animal):\n",
        "    \"\"\"A dog class that inherits from Animal.\"\"\"\n",
        "    def speak(self):\n",
        "        \"\"\"The speak method is overridden to make a dog-specific sound.\"\"\"\n",
        "        print(\"Bark!\")\n",
        "\n",
        "animal = Animal()\n",
        "dog = Dog()\n",
        "animal.speak()\n",
        "dog.speak()\n",
        "print(\"-\" * 40)"
      ],
      "metadata": {
        "id": "Cl2CGXs9wKmT",
        "colab": {
          "base_uri": "https://localhost:8080/"
        },
        "outputId": "9ca1ef16-c165-4f93-fbb9-5fc1015856fc"
      },
      "execution_count": 2,
      "outputs": [
        {
          "output_type": "stream",
          "name": "stdout",
          "text": [
            "A generic animal makes a sound.\n",
            "Bark!\n",
            "----------------------------------------\n"
          ]
        }
      ]
    },
    {
      "cell_type": "code",
      "source": [],
      "metadata": {
        "id": "JlICm955wKhH"
      },
      "execution_count": null,
      "outputs": []
    },
    {
      "cell_type": "markdown",
      "source": [
        "2. Write a program to create an abstract class Shape with a method area().\n",
        "Derive classes Circle and Rectangle from it and implement the area() method.\n"
      ],
      "metadata": {
        "id": "eHZ0JOMywM9E"
      }
    },
    {
      "cell_type": "code",
      "source": [
        "from abc import ABC, abstractmethod\n",
        "import math\n",
        "\n",
        "class Shape(ABC):\n",
        "    def __init__(self, name):\n",
        "        self.name = name\n",
        "\n",
        "    @abstractmethod\n",
        "    def area(self):\n",
        "        pass\n",
        "\n",
        "class Circle(Shape):\n",
        "    def __init__(self, name, radius):\n",
        "        super().__init__(name)\n",
        "        self.radius = radius\n",
        "\n",
        "    def area(self):\n",
        "        return math.pi * self.radius ** 2\n",
        "\n",
        "class Rectangle(Shape):\n",
        "    def __init__(self, name, length, width):\n",
        "        super().__init__(name)\n",
        "        self.length = length\n",
        "        self.width = width\n",
        "\n",
        "    def area(self):\n",
        "        return self.length * self.width\n",
        "\n",
        "if __name__ == \"__main__\":\n",
        "    shapes = [Circle(\"Circle\", 5), Rectangle(\"Rectangle\", 10, 4)]\n",
        "    for shape in shapes:\n",
        "        print(f\"Shape: {shape.name}, Area: {shape.area()}\")"
      ],
      "metadata": {
        "colab": {
          "base_uri": "https://localhost:8080/"
        },
        "id": "sXil8bIjhN5z",
        "outputId": "c1267c3e-75e7-457f-d842-ad3ad7049738"
      },
      "execution_count": 9,
      "outputs": [
        {
          "output_type": "stream",
          "name": "stdout",
          "text": [
            "Shape: Circle, Area: 78.53981633974483\n",
            "Shape: Rectangle, Area: 40\n"
          ]
        }
      ]
    },
    {
      "cell_type": "markdown",
      "source": [
        "3. Implement a multi-level inheritance scenario where a class Vehicle has an attribute type. Derive a class Car and further derive a class ElectricCar that adds a battery attribute.\n"
      ],
      "metadata": {
        "id": "DlnS5iLGwjBH"
      }
    },
    {
      "cell_type": "code",
      "source": [
        "class Vehicle:\n",
        "    \"\"\"Base class for all vehicles.\"\"\"\n",
        "    def __init__(self, vehicle_type):\n",
        "        self.vehicle_type = vehicle_type\n",
        "        print(f\"A new {self.vehicle_type} vehicle has been created.\")\n",
        "\n",
        "class Car(Vehicle):\n",
        "    \"\"\"A class that inherits from Vehicle.\"\"\"\n",
        "    def __init__(self, vehicle_type, model):\n",
        "        super().__init__(vehicle_type)\n",
        "        self.model = model\n",
        "        print(f\"The model is a {self.model}.\")\n",
        "\n",
        "class ElectricCar(Car):\n",
        "    \"\"\"A class that inherits from Car and adds a battery attribute.\"\"\"\n",
        "    def __init__(self, vehicle_type, model, battery_capacity):\n",
        "        super().__init__(vehicle_type, model)\n",
        "        self.battery_capacity = battery_capacity\n",
        "        print(f\"It has a battery capacity of {self.battery_capacity} kWh.\")\n",
        "\n",
        "electric_car = ElectricCar(\"car\", \"Tesla Model 3\", 75)\n",
        "print(f\"Created a {electric_car.vehicle_type}, model: {electric_car.model}, with battery: {electric_car.battery_capacity} kWh.\")\n",
        "print(\"-\" * 40)"
      ],
      "metadata": {
        "id": "qEV_kgVpw6pI",
        "colab": {
          "base_uri": "https://localhost:8080/"
        },
        "outputId": "2f6e1433-36e0-4089-ebe8-0e024072c812"
      },
      "execution_count": 10,
      "outputs": [
        {
          "output_type": "stream",
          "name": "stdout",
          "text": [
            "A new car vehicle has been created.\n",
            "The model is a Tesla Model 3.\n",
            "It has a battery capacity of 75 kWh.\n",
            "Created a car, model: Tesla Model 3, with battery: 75 kWh.\n",
            "----------------------------------------\n"
          ]
        }
      ]
    },
    {
      "cell_type": "markdown",
      "source": [
        "4. Demonstrate polymorphism by creating a base class Bird with a method fly().\n",
        "Create two derived classes Sparrow and Penguin that override the fly() method.\n"
      ],
      "metadata": {
        "id": "HTSE0DtZxAn9"
      }
    },
    {
      "cell_type": "code",
      "source": [
        "class Bird:\n",
        "    \"\"\"A base class for birds.\"\"\"\n",
        "    def fly(self):\n",
        "        \"\"\"A generic fly method.\"\"\"\n",
        "        print(\"The bird is flying.\")\n",
        "\n",
        "class Sparrow(Bird):\n",
        "    \"\"\"A sparrow class that overrides the fly method.\"\"\"\n",
        "    def fly(self):\n",
        "        \"\"\"Sparrows fly.\"\"\"\n",
        "        print(\"The sparrow is flying high in the sky.\")\n",
        "\n",
        "class Penguin(Bird):\n",
        "    \"\"\"A penguin class that overrides the fly method.\"\"\"\n",
        "    def fly(self):\n",
        "        \"\"\"Penguins can't fly, but they can swim.\"\"\"\n",
        "        print(\"The penguin can't fly, but it's a great swimmer.\")\n",
        "\n",
        "def demonstrate_flight(bird):\n",
        "    \"\"\"A function that demonstrates polymorphism.\"\"\"\n",
        "    bird.fly()\n",
        "\n",
        "sparrow = Sparrow()\n",
        "penguin = Penguin()\n",
        "\n",
        "demonstrate_flight(sparrow)\n",
        "demonstrate_flight(penguin)\n",
        "print(\"-\" * 40)\n"
      ],
      "metadata": {
        "id": "AHvyuWoOxG0k",
        "colab": {
          "base_uri": "https://localhost:8080/"
        },
        "outputId": "373250ce-4b99-4919-80e8-9d0e7aca9065"
      },
      "execution_count": 11,
      "outputs": [
        {
          "output_type": "stream",
          "name": "stdout",
          "text": [
            "The sparrow is flying high in the sky.\n",
            "The penguin can't fly, but it's a great swimmer.\n",
            "----------------------------------------\n"
          ]
        }
      ]
    },
    {
      "cell_type": "markdown",
      "source": [
        "5.  Write a program to demonstrate encapsulation by creating a class BankAccount with\n",
        "private attributes balance and methods to deposit, withdraw, and check balance.\n"
      ],
      "metadata": {
        "id": "wABPv599xvLw"
      }
    },
    {
      "cell_type": "code",
      "source": [
        "class BankAccount:\n",
        "    \"\"\"A class demonstrating encapsulation with a private balance attribute.\"\"\"\n",
        "    def __init__(self, initial_balance=0):\n",
        "        self.__balance = initial_balance\n",
        "\n",
        "    def deposit(self, amount):\n",
        "        \"\"\"Method to deposit money.\"\"\"\n",
        "        if amount > 0:\n",
        "            self.__balance += amount\n",
        "            print(f\"Deposited: {amount}. New balance: {self.__balance}\")\n",
        "        else:\n",
        "            print(\"Deposit amount must be positive.\")\n",
        "\n",
        "    def withdraw(self, amount):\n",
        "        \"\"\"Method to withdraw money.\"\"\"\n",
        "        if 0 < amount <= self.__balance:\n",
        "            self.__balance -= amount\n",
        "            print(f\"Withdrew: {amount}. New balance: {self.__balance}\")\n",
        "        else:\n",
        "            print(\"Invalid withdrawal amount or insufficient balance.\")\n",
        "\n",
        "    def get_balance(self):\n",
        "        \"\"\"Method to check the balance.\"\"\"\n",
        "        return self.__balance\n",
        "\n",
        "account = BankAccount(1000)\n",
        "account.deposit(200)\n",
        "account.withdraw(500)\n",
        "account.withdraw(1000)\n",
        "try:\n",
        "    print(account.__balance)\n",
        "except AttributeError as e:\n",
        "    print(f\"Error accessing private attribute: {e}\")\n",
        "print(f\"Current balance using the public method: {account.get_balance()}\")\n",
        "print(\"-\" * 40)"
      ],
      "metadata": {
        "id": "2eNRopftx56O",
        "colab": {
          "base_uri": "https://localhost:8080/"
        },
        "outputId": "2b43edb5-983d-4680-d1b5-cceb94296751"
      },
      "execution_count": 12,
      "outputs": [
        {
          "output_type": "stream",
          "name": "stdout",
          "text": [
            "Deposited: 200. New balance: 1200\n",
            "Withdrew: 500. New balance: 700\n",
            "Invalid withdrawal amount or insufficient balance.\n",
            "Error accessing private attribute: 'BankAccount' object has no attribute '__balance'\n",
            "Current balance using the public method: 700\n",
            "----------------------------------------\n"
          ]
        }
      ]
    },
    {
      "cell_type": "markdown",
      "source": [
        "6. Demonstrate runtime polymorphism using a method play() in a base class Instrument.\n",
        "Derive classes Guitar and Piano that implement their own version of play().\n"
      ],
      "metadata": {
        "id": "uyXzsW-6YhZM"
      }
    },
    {
      "cell_type": "code",
      "source": [
        "\n",
        "\n",
        "class Instrument:\n",
        "    \"\"\"Base class for musical instruments.\"\"\"\n",
        "    def play(self):\n",
        "        \"\"\"A generic play method.\"\"\"\n",
        "        print(\"The instrument is making a sound.\")\n",
        "\n",
        "class Guitar(Instrument):\n",
        "    \"\"\"A guitar class that overrides play().\"\"\"\n",
        "    def play(self):\n",
        "        \"\"\"A specific play method for a guitar.\"\"\"\n",
        "        print(\"The guitar is strumming a melody.\")\n",
        "\n",
        "class Piano(Instrument):\n",
        "    \"\"\"A piano class that overrides play().\"\"\"\n",
        "    def play(self):\n",
        "        \"\"\"A specific play method for a piano.\"\"\"\n",
        "        print(\"The piano is playing a beautiful chord progression.\")\n",
        "\n",
        "def start_playing(instrument):\n",
        "    \"\"\"Takes an instrument object and calls its play method.\"\"\"\n",
        "    instrument.play()\n",
        "\n",
        "guitar = Guitar()\n",
        "piano = Piano()\n",
        "\n",
        "start_playing(guitar)\n",
        "start_playing(piano)\n",
        "print(\"-\" * 40)"
      ],
      "metadata": {
        "colab": {
          "base_uri": "https://localhost:8080/"
        },
        "id": "-FrMtop7Yevn",
        "outputId": "9135cfd4-a777-4b90-812b-8b1cf7329811"
      },
      "execution_count": 14,
      "outputs": [
        {
          "output_type": "stream",
          "name": "stdout",
          "text": [
            "The guitar is strumming a melody.\n",
            "The piano is playing a beautiful chord progression.\n",
            "----------------------------------------\n"
          ]
        }
      ]
    },
    {
      "cell_type": "markdown",
      "source": [
        "7. Create a class MathOperations with a class method add_numbers() and a static method subtract_numbers().\n"
      ],
      "metadata": {
        "id": "Tn7TAzPLY601"
      }
    },
    {
      "cell_type": "code",
      "source": [
        "\n",
        "print(\"--- Question 7: Class and Static Methods ---\")\n",
        "\n",
        "class MathOperations:\n",
        "    \"\"\"A class with class and static methods.\"\"\"\n",
        "    @classmethod\n",
        "    def add_numbers(cls, num1, num2):\n",
        "        \"\"\"A class method to add two numbers.\"\"\"\n",
        "        return num1 + num2\n",
        "\n",
        "    @staticmethod\n",
        "    def subtract_numbers(num1, num2):\n",
        "        \"\"\"A static method to subtract two numbers.\"\"\"\n",
        "        return num1 - num2\n",
        "\n",
        "result_add = MathOperations.add_numbers(10, 5)\n",
        "result_subtract = MathOperations.subtract_numbers(10, 5)\n",
        "\n",
        "print(f\"Result of add_numbers(10, 5): {result_add}\")\n",
        "print(f\"Result of subtract_numbers(10, 5): {result_subtract}\")\n",
        "print(\"-\" * 40)\n"
      ],
      "metadata": {
        "colab": {
          "base_uri": "https://localhost:8080/"
        },
        "id": "upe1eqc4Yzor",
        "outputId": "e0787a13-090f-481c-8313-efdc94711410"
      },
      "execution_count": 15,
      "outputs": [
        {
          "output_type": "stream",
          "name": "stdout",
          "text": [
            "--- Question 7: Class and Static Methods ---\n",
            "Result of add_numbers(10, 5): 15\n",
            "Result of subtract_numbers(10, 5): 5\n",
            "----------------------------------------\n"
          ]
        }
      ]
    },
    {
      "cell_type": "markdown",
      "source": [
        "8. Implement a class Person with a class method to count the total number of persons created."
      ],
      "metadata": {
        "id": "Ki1xycAYZLva"
      }
    },
    {
      "cell_type": "code",
      "source": [
        "\n",
        "\n",
        "class Person:\n",
        "    person_count = 0\n",
        "\n",
        "    def __init__(self, name):\n",
        "        self.name = name\n",
        "        # Increment the class attribute every time a new object is created\n",
        "        Person.person_count += 1\n",
        "        print(f\"Person '{self.name}' created.\")\n",
        "\n",
        "    @classmethod\n",
        "    def get_person_count(cls):\n",
        "        \"\"\"A class method to get the total count of persons.\"\"\"\n",
        "        return cls.person_count\n",
        "\n",
        "person1 = Person(\"Alice\")\n",
        "person2 = Person(\"Bob\")\n",
        "person3 = Person(\"Charlie\")\n",
        "\n",
        "print(f\"Total number of persons created: {Person.get_person_count()}\")\n",
        "print(\"-\" * 40)\n"
      ],
      "metadata": {
        "colab": {
          "base_uri": "https://localhost:8080/"
        },
        "id": "hFsLzj-bZGgO",
        "outputId": "9bb74a3e-26a9-4f82-bb5b-09558fe955ca"
      },
      "execution_count": 16,
      "outputs": [
        {
          "output_type": "stream",
          "name": "stdout",
          "text": [
            "Person 'Alice' created.\n",
            "Person 'Bob' created.\n",
            "Person 'Charlie' created.\n",
            "Total number of persons created: 3\n",
            "----------------------------------------\n"
          ]
        }
      ]
    },
    {
      "cell_type": "markdown",
      "source": [
        "9. Write a class Fraction with attributes numerator and denominator. Override the str method to display the fraction as \"numerator/denominator\"."
      ],
      "metadata": {
        "id": "saAYCISEZZF4"
      }
    },
    {
      "cell_type": "code",
      "source": [
        "\n",
        "\n",
        "class Fraction:\n",
        "    \"\"\"A class to represent a fraction.\"\"\"\n",
        "    def __init__(self, numerator, denominator):\n",
        "        self.numerator = numerator\n",
        "        self.denominator = denominator\n",
        "\n",
        "    def __str__(self):\n",
        "        \"\"\"Overrides the default string representation.\"\"\"\n",
        "        return f\"{self.numerator}/{self.denominator}\"\n",
        "\n",
        "fraction = Fraction(3, 4)\n",
        "print(f\"The fraction object as a string: {fraction}\")\n",
        "print(\"-\" * 40)"
      ],
      "metadata": {
        "colab": {
          "base_uri": "https://localhost:8080/"
        },
        "id": "4h-jxKH1ZVXf",
        "outputId": "ecc6828e-4af1-481a-e766-341789280c75"
      },
      "execution_count": 17,
      "outputs": [
        {
          "output_type": "stream",
          "name": "stdout",
          "text": [
            "The fraction object as a string: 3/4\n",
            "----------------------------------------\n"
          ]
        }
      ]
    },
    {
      "cell_type": "markdown",
      "source": [
        "10. Demonstrate operator overloading by creating a class Vector and overriding the add method to add two vectors."
      ],
      "metadata": {
        "id": "HR-_q9AaZrBz"
      }
    },
    {
      "cell_type": "code",
      "source": [
        "\n",
        "\n",
        "class Vector:\n",
        "    \"\"\"A class to represent a 2D vector.\"\"\"\n",
        "    def __init__(self, x, y):\n",
        "        self.x = x\n",
        "        self.y = y\n",
        "\n",
        "    def __str__(self):\n",
        "        \"\"\"A string representation for the Vector.\"\"\"\n",
        "        return f\"({self.x}, {self.y})\"\n",
        "\n",
        "    def __add__(self, other):\n",
        "        \"\"\"Overrides the '+' operator to add two vectors.\"\"\"\n",
        "        new_x = self.x + other.x\n",
        "        new_y = self.y + other.y\n",
        "        return Vector(new_x, new_y)\n",
        "v1 = Vector(2, 3)\n",
        "v2 = Vector(5, 7)\n",
        "v3 = v1 + v2\n",
        "\n",
        "print(f\"Vector 1: {v1}\")\n",
        "print(f\"Vector 2: {v2}\")\n",
        "print(f\"Result of v1 + v2: {v3}\")\n",
        "print(\"-\" * 40)"
      ],
      "metadata": {
        "colab": {
          "base_uri": "https://localhost:8080/"
        },
        "id": "b2g5Ynt9ZlrW",
        "outputId": "ae3c3742-d92b-44f2-d4c9-ef8ae7f4713a"
      },
      "execution_count": 18,
      "outputs": [
        {
          "output_type": "stream",
          "name": "stdout",
          "text": [
            "Vector 1: (2, 3)\n",
            "Vector 2: (5, 7)\n",
            "Result of v1 + v2: (7, 10)\n",
            "----------------------------------------\n"
          ]
        }
      ]
    },
    {
      "cell_type": "markdown",
      "source": [
        "11. Create a class Person with attributes name and age. Add a method greet() that prints \"Hello, my name is {name} and I am {age} years old.\"\n",
        "\n"
      ],
      "metadata": {
        "id": "0JAuU4cxbWuK"
      }
    },
    {
      "cell_type": "code",
      "source": [
        "class Person:\n",
        "    def __init__(self, name, age):\n",
        "        self.name = name\n",
        "        self.age = age\n",
        "\n",
        "    def greet(self):\n",
        "        print(f\"Hello, my name is {self.name} and I am {self.age} years old.\")\n",
        "\n",
        "person1 = Person(\"rajit\", 23)\n",
        "person1.greet()\n",
        "print(\"-\" * 20)"
      ],
      "metadata": {
        "colab": {
          "base_uri": "https://localhost:8080/"
        },
        "id": "AGafF90YbXdl",
        "outputId": "76a2d768-a8f3-4318-84a5-4b6667a16794"
      },
      "execution_count": 20,
      "outputs": [
        {
          "output_type": "stream",
          "name": "stdout",
          "text": [
            "Hello, my name is rajit and I am 23 years old.\n",
            "--------------------\n"
          ]
        }
      ]
    },
    {
      "cell_type": "markdown",
      "source": [
        "12. Implement a class Student with attributes name and grades. Create a method average_grade() to compute the average of the grades."
      ],
      "metadata": {
        "id": "1v2QjmfLbfPu"
      }
    },
    {
      "cell_type": "code",
      "source": [
        "class Student:\n",
        "    def __init__(self, name, grades):\n",
        "        if isinstance(grades, list):\n",
        "            self.grades = grades\n",
        "        else:\n",
        "            self.grades = []\n",
        "            print(\"Warning: Grades should be a list.\")\n",
        "\n",
        "    def average_grade(self):\n",
        "        if not self.grades:\n",
        "            return 0\n",
        "        return sum(self.grades) / len(self.grades)\n",
        "\n",
        "student1 = Student(\"rajit\", [85, 90, 78, 92])\n",
        "print(f\"Student: {student1.name}, Average Grade: {student1.average_grade():.2f}\")\n",
        "student2 = Student(\"vivek\", [45, 76, 76, 45])\n",
        "print(f\"Student: {student2.name}, Average Grade: {student2.average_grade():.2f}\")\n",
        "print(\"-\" * 20)"
      ],
      "metadata": {
        "colab": {
          "base_uri": "https://localhost:8080/",
          "height": 211
        },
        "id": "eKBF88Ndbf3T",
        "outputId": "8ae90e89-1bad-4f83-9beb-d8c44baaba82"
      },
      "execution_count": 22,
      "outputs": [
        {
          "output_type": "error",
          "ename": "AttributeError",
          "evalue": "'Student' object has no attribute 'name'",
          "traceback": [
            "\u001b[0;31m---------------------------------------------------------------------------\u001b[0m",
            "\u001b[0;31mAttributeError\u001b[0m                            Traceback (most recent call last)",
            "\u001b[0;32m/tmp/ipython-input-2391227256.py\u001b[0m in \u001b[0;36m<cell line: 0>\u001b[0;34m()\u001b[0m\n\u001b[1;32m     13\u001b[0m \u001b[0;34m\u001b[0m\u001b[0m\n\u001b[1;32m     14\u001b[0m \u001b[0mstudent1\u001b[0m \u001b[0;34m=\u001b[0m \u001b[0mStudent\u001b[0m\u001b[0;34m(\u001b[0m\u001b[0;34m\"rajit\"\u001b[0m\u001b[0;34m,\u001b[0m \u001b[0;34m[\u001b[0m\u001b[0;36m85\u001b[0m\u001b[0;34m,\u001b[0m \u001b[0;36m90\u001b[0m\u001b[0;34m,\u001b[0m \u001b[0;36m78\u001b[0m\u001b[0;34m,\u001b[0m \u001b[0;36m92\u001b[0m\u001b[0;34m]\u001b[0m\u001b[0;34m)\u001b[0m\u001b[0;34m\u001b[0m\u001b[0;34m\u001b[0m\u001b[0m\n\u001b[0;32m---> 15\u001b[0;31m \u001b[0mprint\u001b[0m\u001b[0;34m(\u001b[0m\u001b[0;34mf\"Student: {student1.name}, Average Grade: {student1.average_grade():.2f}\"\u001b[0m\u001b[0;34m)\u001b[0m\u001b[0;34m\u001b[0m\u001b[0;34m\u001b[0m\u001b[0m\n\u001b[0m\u001b[1;32m     16\u001b[0m \u001b[0mstudent2\u001b[0m \u001b[0;34m=\u001b[0m \u001b[0mStudent\u001b[0m\u001b[0;34m(\u001b[0m\u001b[0;34m\"vivek\"\u001b[0m\u001b[0;34m,\u001b[0m \u001b[0;34m[\u001b[0m\u001b[0;36m45\u001b[0m\u001b[0;34m,\u001b[0m \u001b[0;36m76\u001b[0m\u001b[0;34m,\u001b[0m \u001b[0;36m76\u001b[0m\u001b[0;34m,\u001b[0m \u001b[0;36m45\u001b[0m\u001b[0;34m]\u001b[0m\u001b[0;34m)\u001b[0m\u001b[0;34m\u001b[0m\u001b[0;34m\u001b[0m\u001b[0m\n\u001b[1;32m     17\u001b[0m \u001b[0mprint\u001b[0m\u001b[0;34m(\u001b[0m\u001b[0;34mf\"Student: {student2.name}, Average Grade: {student2.average_grade():.2f}\"\u001b[0m\u001b[0;34m)\u001b[0m\u001b[0;34m\u001b[0m\u001b[0;34m\u001b[0m\u001b[0m\n",
            "\u001b[0;31mAttributeError\u001b[0m: 'Student' object has no attribute 'name'"
          ]
        }
      ]
    },
    {
      "cell_type": "markdown",
      "source": [
        "13. Create a class Rectangle with methods set_dimensions() to set the dimensions and area() to calculate the\n",
        "\n",
        "area."
      ],
      "metadata": {
        "id": "jr932PWFbnyF"
      }
    },
    {
      "cell_type": "code",
      "source": [
        "class Rectangle:\n",
        "    def __init__(self):\n",
        "        self.length = 0\n",
        "        self.width = 0\n",
        "\n",
        "    def set_dimensions(self, length, width):\n",
        "        self.length = length\n",
        "        self.width = width\n",
        "\n",
        "    def area(self):\n",
        "        return self.length * self.width\n",
        "\n",
        "rect1 = Rectangle()\n",
        "rect1.set_dimensions(10, 5)\n",
        "print(f\"Rectangle with dimensions {rect1.length}x{rect1.width}, Area: {rect1.area()}\")\n",
        "print(\"-\" * 20)\n"
      ],
      "metadata": {
        "colab": {
          "base_uri": "https://localhost:8080/"
        },
        "id": "JzLLevX7boR7",
        "outputId": "36196ab0-7017-4a47-9fb4-873de1653bd5"
      },
      "execution_count": 23,
      "outputs": [
        {
          "output_type": "stream",
          "name": "stdout",
          "text": [
            "Rectangle with dimensions 10x5, Area: 50\n",
            "--------------------\n"
          ]
        }
      ]
    },
    {
      "cell_type": "markdown",
      "source": [
        "14. Create a class Employee with a method calculate_salary() that computes the salary based on hours worked and hourly rate. Create a derived class Manager that adds a bonus to the salary.\n"
      ],
      "metadata": {
        "id": "VyQtlW_-bvRl"
      }
    },
    {
      "cell_type": "code",
      "source": [
        "class Employee:\n",
        "    def __init__(self, name, hourly_rate):\n",
        "        self.name = name\n",
        "        self.hourly_rate = hourly_rate\n",
        "\n",
        "    def calculate_salary(self, hours_worked):\n",
        "        return self.hourly_rate * hours_worked\n",
        "\n",
        "class Manager(Employee):\n",
        "    def __init__(self, name, hourly_rate, bonus):\n",
        "        super().__init__(name, hourly_rate)\n",
        "        self.bonus = bonus\n",
        "\n",
        "    def calculate_salary(self, hours_worked):\n",
        "        base_salary = super().calculate_salary(hours_worked)\n",
        "        return base_salary + self.bonus\n",
        "\n",
        "employee1 = Employee(\"David\", 25)\n",
        "print(f\"Employee {employee1.name} salary for 40 hours: ${employee1.calculate_salary(40)}\")\n",
        "manager1 = Manager(\"Eve\", 30, 1000)\n",
        "print(f\"Manager {manager1.name} salary for 40 hours: ${manager1.calculate_salary(40)}\")\n",
        "print(\"-\" * 20)"
      ],
      "metadata": {
        "colab": {
          "base_uri": "https://localhost:8080/"
        },
        "id": "lIa2AFFEbvrX",
        "outputId": "6ab165ca-b353-49fd-d076-549244c0a5f4"
      },
      "execution_count": 24,
      "outputs": [
        {
          "output_type": "stream",
          "name": "stdout",
          "text": [
            "Employee David salary for 40 hours: $1000\n",
            "Manager Eve salary for 40 hours: $2200\n",
            "--------------------\n"
          ]
        }
      ]
    },
    {
      "cell_type": "markdown",
      "source": [
        "15. Create a class Product with attributes name, price, and quantity. Implement a method total_price() that calculates the total price of the product.\n",
        "\n"
      ],
      "metadata": {
        "id": "zHeL29XMb3G3"
      }
    },
    {
      "cell_type": "code",
      "source": [
        "class Product:\n",
        "    def __init__(self, name, price, quantity):\n",
        "        self.name = name\n",
        "        self.price = price\n",
        "        self.quantity = quantity\n",
        "\n",
        "    def total_price(self):\n",
        "        return self.price * self.quantity\n",
        "\n",
        "product1 = Product(\"Laptop\", 1200, 2)\n",
        "print(f\"Product: {product1.name}, Total price for {product1.quantity} units: ${product1.total_price()}\")\n",
        "print(\"-\" * 20)\n"
      ],
      "metadata": {
        "colab": {
          "base_uri": "https://localhost:8080/"
        },
        "id": "pr5M9XCBb3q2",
        "outputId": "bc3b47af-724c-4ed9-8183-31f9c8b58692"
      },
      "execution_count": 25,
      "outputs": [
        {
          "output_type": "stream",
          "name": "stdout",
          "text": [
            "Product: Laptop, Total price for 2 units: $2400\n",
            "--------------------\n"
          ]
        }
      ]
    },
    {
      "cell_type": "markdown",
      "source": [
        "16. Create a class Animal with an abstract method sound(). Create two derived classes Cow and Sheep that implement the sound() method.\n",
        "\n"
      ],
      "metadata": {
        "id": "XhR4L-D9b9gQ"
      }
    },
    {
      "cell_type": "code",
      "source": [
        "from abc import ABC, abstractmethod\n",
        "\n",
        "class Animal(ABC):\n",
        "    @abstractmethod\n",
        "    def sound(self):\n",
        "        pass\n",
        "\n",
        "class Cow(Animal):\n",
        "    def sound(self):\n",
        "        return \"Moo!\"\n",
        "\n",
        "class Sheep(Animal):\n",
        "    def sound(self):\n",
        "        return \"Baa!\"\n",
        "\n",
        "cow1 = Cow()\n",
        "sheep1 = Sheep()\n",
        "print(f\"A cow says: {cow1.sound()}\")\n",
        "print(f\"A sheep says: {sheep1.sound()}\")\n",
        "print(\"-\" * 20)"
      ],
      "metadata": {
        "colab": {
          "base_uri": "https://localhost:8080/"
        },
        "id": "-_iSzX9pb-NY",
        "outputId": "5d7b028f-7984-45fb-8ccb-db547e50675f"
      },
      "execution_count": 26,
      "outputs": [
        {
          "output_type": "stream",
          "name": "stdout",
          "text": [
            "A cow says: Moo!\n",
            "A sheep says: Baa!\n",
            "--------------------\n"
          ]
        }
      ]
    },
    {
      "cell_type": "markdown",
      "source": [
        "17. Create a class Book with attributes title, author, and year_published. Add a method get_book_info() that returns a formatted string with the book's details."
      ],
      "metadata": {
        "id": "hINgy0ZicFBy"
      }
    },
    {
      "cell_type": "code",
      "source": [
        "class Book:\n",
        "    def __init__(self, title, author, year_published):\n",
        "        self.title = title\n",
        "        self.author = author\n",
        "        self.year_published = year_published\n",
        "\n",
        "    def get_book_info(self):\n",
        "        return f\"'{self.title}' by {self.author}, published in {self.year_published}\"\n",
        "\n",
        "book1 = Book(\"Three man in boat\", \"charlee\", 1979)\n",
        "print(f\"Book Info: {book1.get_book_info()}\")\n",
        "print(\"-\" * 20)"
      ],
      "metadata": {
        "colab": {
          "base_uri": "https://localhost:8080/"
        },
        "id": "dDlKe1eZcFvI",
        "outputId": "725e72a1-35ff-42dc-b474-3b269f7db179"
      },
      "execution_count": 28,
      "outputs": [
        {
          "output_type": "stream",
          "name": "stdout",
          "text": [
            "Book Info: 'Three man in boat' by charlee, published in 1979\n",
            "--------------------\n"
          ]
        }
      ]
    },
    {
      "cell_type": "markdown",
      "source": [
        "18. Create a class House with attributes address and price. Create a derived class Mansion that adds an attribute number_of_rooms."
      ],
      "metadata": {
        "id": "ikW0PABUjfNl"
      }
    },
    {
      "cell_type": "code",
      "source": [
        "class House:\n",
        "    def __init__(self, address, price):\n",
        "        self.address = address\n",
        "        self.price = price\n",
        "\n",
        "class Mansion(House):\n",
        "    def __init__(self, address, price, number_of_rooms):\n",
        "        super().__init__(address, price)\n",
        "        self.number_of_rooms = number_of_rooms\n",
        "\n",
        "if __name__ == \"__main__\":\n",
        "    my_house = House(\"123 Main St\", 250000)\n",
        "    my_mansion = Mansion(\"456 Park Ave\", 5000000, 15)\n",
        "\n",
        "    print(f\"My house at {my_house.address} costs ${my_house.price}.\")\n",
        "    print(f\"My mansion at {my_mansion.address} costs ${my_mansion.price} and has {my_mansion.number_of_rooms} rooms.\")\n",
        "\n"
      ],
      "metadata": {
        "colab": {
          "base_uri": "https://localhost:8080/"
        },
        "id": "XaHlso9ujlxA",
        "outputId": "0229e57b-258d-49d8-8632-d2111bc5429f"
      },
      "execution_count": 29,
      "outputs": [
        {
          "output_type": "stream",
          "name": "stdout",
          "text": [
            "My house at 123 Main St costs $250000.\n",
            "My mansion at 456 Park Ave costs $5000000 and has 15 rooms.\n"
          ]
        }
      ]
    }
  ]
}